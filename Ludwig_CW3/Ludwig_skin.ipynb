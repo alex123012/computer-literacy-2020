{
  "nbformat": 4,
  "nbformat_minor": 0,
  "metadata": {
    "colab": {
      "name": "Ludwig_skin.ipynb",
      "provenance": [],
      "toc_visible": true
    },
    "kernelspec": {
      "display_name": "Python 3",
      "language": "python",
      "name": "python3"
    },
    "language_info": {
      "codemirror_mode": {
        "name": "ipython",
        "version": 3
      },
      "file_extension": ".py",
      "mimetype": "text/x-python",
      "name": "python",
      "nbconvert_exporter": "python",
      "pygments_lexer": "ipython3",
      "version": "3.7.1"
    }
  },
  "cells": [
    {
      "cell_type": "code",
      "metadata": {
        "colab_type": "code",
        "id": "Gqfv19p6AFl8",
        "colab": {}
      },
      "source": [
        "# импорт библиотек\n",
        "from ludwig.api import *\n",
        "import pandas as pd\n",
        "from ludwig.visualize import *\n",
        "import os\n",
        "import kaggle"
      ],
      "execution_count": 0,
      "outputs": []
    },
    {
      "cell_type": "markdown",
      "metadata": {
        "id": "PwHpHX_VR5Dy",
        "colab_type": "text"
      },
      "source": [
        "# Следущие три клетки по необходимости"
      ]
    },
    {
      "cell_type": "code",
      "metadata": {
        "id": "16uc9GYORj4B",
        "colab_type": "code",
        "colab": {}
      },
      "source": [
        "kaggle.api.authenticate()"
      ],
      "execution_count": 0,
      "outputs": []
    },
    {
      "cell_type": "code",
      "metadata": {
        "id": "KNonQZg2Rj4M",
        "colab_type": "code",
        "colab": {}
      },
      "source": [
        "kaggle.api.dataset_download_files('kmader/skin-cancer-mnist-ham10000/')"
      ],
      "execution_count": 0,
      "outputs": []
    },
    {
      "cell_type": "code",
      "metadata": {
        "scrolled": false,
        "id": "4knfb82PRj4T",
        "colab_type": "code",
        "colab": {}
      },
      "source": [
        "!unzip skin-cancer-mnist-ham10000.zip"
      ],
      "execution_count": 0,
      "outputs": []
    },
    {
      "cell_type": "markdown",
      "metadata": {
        "id": "Nrp04IRYSAlv",
        "colab_type": "text"
      },
      "source": [
        "# Сам код"
      ]
    },
    {
      "cell_type": "code",
      "metadata": {
        "colab_type": "code",
        "id": "tTG2Omb9AFmJ",
        "colab": {
          "base_uri": "https://localhost:8080/",
          "height": 81
        },
        "outputId": "687b3e5e-aa30-4181-e852-05ffa02e4d6c"
      },
      "source": [
        "# Загрузка основного датасета из метадаты\n",
        "metadata = pd.DataFrame(pd.read_csv('HAM10000_metadata.csv'))\n",
        "# Создание столбца под картинки\n",
        "metadata['path'] = ''\n",
        "metadata.head(1)"
      ],
      "execution_count": 3,
      "outputs": [
        {
          "output_type": "execute_result",
          "data": {
            "text/html": [
              "<div>\n",
              "<style scoped>\n",
              "    .dataframe tbody tr th:only-of-type {\n",
              "        vertical-align: middle;\n",
              "    }\n",
              "\n",
              "    .dataframe tbody tr th {\n",
              "        vertical-align: top;\n",
              "    }\n",
              "\n",
              "    .dataframe thead th {\n",
              "        text-align: right;\n",
              "    }\n",
              "</style>\n",
              "<table border=\"1\" class=\"dataframe\">\n",
              "  <thead>\n",
              "    <tr style=\"text-align: right;\">\n",
              "      <th></th>\n",
              "      <th>lesion_id</th>\n",
              "      <th>image_id</th>\n",
              "      <th>dx</th>\n",
              "      <th>dx_type</th>\n",
              "      <th>age</th>\n",
              "      <th>sex</th>\n",
              "      <th>localization</th>\n",
              "      <th>path</th>\n",
              "    </tr>\n",
              "  </thead>\n",
              "  <tbody>\n",
              "    <tr>\n",
              "      <th>0</th>\n",
              "      <td>HAM_0000118</td>\n",
              "      <td>ISIC_0027419</td>\n",
              "      <td>bkl</td>\n",
              "      <td>histo</td>\n",
              "      <td>80.0</td>\n",
              "      <td>male</td>\n",
              "      <td>scalp</td>\n",
              "      <td></td>\n",
              "    </tr>\n",
              "  </tbody>\n",
              "</table>\n",
              "</div>"
            ],
            "text/plain": [
              "     lesion_id      image_id   dx dx_type   age   sex localization path\n",
              "0  HAM_0000118  ISIC_0027419  bkl   histo  80.0  male        scalp     "
            ]
          },
          "metadata": {
            "tags": []
          },
          "execution_count": 3
        }
      ]
    },
    {
      "cell_type": "code",
      "metadata": {
        "colab_type": "code",
        "id": "1ae8fq8ZAFmS",
        "colab": {}
      },
      "source": [
        "# Загружаю пути на картинки из датасета \n",
        "# (тк по разным папкам лежат, то использую условные конструкции)\n",
        "for i in metadata['image_id'].values.tolist():\n",
        "    name = '{}.jpg'.format(i)\n",
        "    if name in os.listdir('HAM10000_images_part_1'):\n",
        "        metadata.loc[metadata['image_id'] == i, 'path'] = os.path.abspath('HAM10000_images_part_1/{}'.format(name))\n",
        "    if name in os.listdir('HAM10000_images_part_2'):\n",
        "        metadata.loc[metadata['image_id'] == i, 'path'] = os.path.abspath('HAM10000_images_part_2/{}'.format(name))"
      ],
      "execution_count": 0,
      "outputs": []
    },
    {
      "cell_type": "code",
      "metadata": {
        "colab_type": "code",
        "id": "bA63G0ZAAFmZ",
        "colab": {}
      },
      "source": [
        "metadata.head(1)"
      ],
      "execution_count": 0,
      "outputs": []
    },
    {
      "cell_type": "code",
      "metadata": {
        "colab_type": "code",
        "id": "aTcqqqzeAFmf",
        "colab": {}
      },
      "source": [
        "# создаем модель\n",
        "model = LudwigModel(model_definition_file='model_definition.yaml')"
      ],
      "execution_count": 0,
      "outputs": []
    },
    {
      "cell_type": "code",
      "metadata": {
        "colab_type": "code",
        "id": "AdDZOYvDAFmm",
        "colab": {}
      },
      "source": [
        "# тренировка\n",
        "train = model.train(metadata)"
      ],
      "execution_count": 0,
      "outputs": []
    },
    {
      "cell_type": "markdown",
      "metadata": {
        "colab_type": "text",
        "id": "jwaAPkSQAFmr"
      },
      "source": [
        "## К сожалению, мощности моего компа не хватило на то, чтобы все заработало, надеюсь у вас все получится запустить (просто дальше не особо сложный код), поэтому все должно работать, если тренировка пройдет"
      ]
    },
    {
      "cell_type": "markdown",
      "metadata": {
        "colab_type": "text",
        "id": "5VPJfgMPAJe_"
      },
      "source": [
        "UPD: Тренировка не прошла даже на сайте Kaggle.com через их ноутбуки (за 9 часов так и не прошло ничего), поэтому обучаю модель без картинок"
      ]
    },
    {
      "cell_type": "code",
      "metadata": {
        "colab_type": "code",
        "id": "6OVSj6D7AWz5",
        "outputId": "24ff23d9-1f18-4b76-b9c6-4ae7734ace31",
        "colab": {
          "base_uri": "https://localhost:8080/",
          "height": 206
        }
      },
      "source": [
        "# Загрузка основного датасета из метадаты\n",
        "data_noim = pd.DataFrame(pd.read_csv('HAM10000_metadata.csv'))\n",
        "data_noim.head()"
      ],
      "execution_count": 5,
      "outputs": [
        {
          "output_type": "execute_result",
          "data": {
            "text/html": [
              "<div>\n",
              "<style scoped>\n",
              "    .dataframe tbody tr th:only-of-type {\n",
              "        vertical-align: middle;\n",
              "    }\n",
              "\n",
              "    .dataframe tbody tr th {\n",
              "        vertical-align: top;\n",
              "    }\n",
              "\n",
              "    .dataframe thead th {\n",
              "        text-align: right;\n",
              "    }\n",
              "</style>\n",
              "<table border=\"1\" class=\"dataframe\">\n",
              "  <thead>\n",
              "    <tr style=\"text-align: right;\">\n",
              "      <th></th>\n",
              "      <th>lesion_id</th>\n",
              "      <th>image_id</th>\n",
              "      <th>dx</th>\n",
              "      <th>dx_type</th>\n",
              "      <th>age</th>\n",
              "      <th>sex</th>\n",
              "      <th>localization</th>\n",
              "    </tr>\n",
              "  </thead>\n",
              "  <tbody>\n",
              "    <tr>\n",
              "      <th>0</th>\n",
              "      <td>HAM_0000118</td>\n",
              "      <td>ISIC_0027419</td>\n",
              "      <td>bkl</td>\n",
              "      <td>histo</td>\n",
              "      <td>80.0</td>\n",
              "      <td>male</td>\n",
              "      <td>scalp</td>\n",
              "    </tr>\n",
              "    <tr>\n",
              "      <th>1</th>\n",
              "      <td>HAM_0000118</td>\n",
              "      <td>ISIC_0025030</td>\n",
              "      <td>bkl</td>\n",
              "      <td>histo</td>\n",
              "      <td>80.0</td>\n",
              "      <td>male</td>\n",
              "      <td>scalp</td>\n",
              "    </tr>\n",
              "    <tr>\n",
              "      <th>2</th>\n",
              "      <td>HAM_0002730</td>\n",
              "      <td>ISIC_0026769</td>\n",
              "      <td>bkl</td>\n",
              "      <td>histo</td>\n",
              "      <td>80.0</td>\n",
              "      <td>male</td>\n",
              "      <td>scalp</td>\n",
              "    </tr>\n",
              "    <tr>\n",
              "      <th>3</th>\n",
              "      <td>HAM_0002730</td>\n",
              "      <td>ISIC_0025661</td>\n",
              "      <td>bkl</td>\n",
              "      <td>histo</td>\n",
              "      <td>80.0</td>\n",
              "      <td>male</td>\n",
              "      <td>scalp</td>\n",
              "    </tr>\n",
              "    <tr>\n",
              "      <th>4</th>\n",
              "      <td>HAM_0001466</td>\n",
              "      <td>ISIC_0031633</td>\n",
              "      <td>bkl</td>\n",
              "      <td>histo</td>\n",
              "      <td>75.0</td>\n",
              "      <td>male</td>\n",
              "      <td>ear</td>\n",
              "    </tr>\n",
              "  </tbody>\n",
              "</table>\n",
              "</div>"
            ],
            "text/plain": [
              "     lesion_id      image_id   dx dx_type   age   sex localization\n",
              "0  HAM_0000118  ISIC_0027419  bkl   histo  80.0  male        scalp\n",
              "1  HAM_0000118  ISIC_0025030  bkl   histo  80.0  male        scalp\n",
              "2  HAM_0002730  ISIC_0026769  bkl   histo  80.0  male        scalp\n",
              "3  HAM_0002730  ISIC_0025661  bkl   histo  80.0  male        scalp\n",
              "4  HAM_0001466  ISIC_0031633  bkl   histo  75.0  male          ear"
            ]
          },
          "metadata": {
            "tags": []
          },
          "execution_count": 5
        }
      ]
    },
    {
      "cell_type": "code",
      "metadata": {
        "colab_type": "code",
        "id": "RPL6De8IAp5B",
        "colab": {}
      },
      "source": [
        "# создаем модель\n",
        "model_noim = LudwigModel(model_definition_file='model_definition_noim.yaml')"
      ],
      "execution_count": 0,
      "outputs": []
    },
    {
      "cell_type": "code",
      "metadata": {
        "colab_type": "code",
        "id": "I-vIQ2IDAwxY",
        "colab": {}
      },
      "source": [
        "# тренировка\n",
        "train_noim = model_noim.train(data_noim)"
      ],
      "execution_count": 0,
      "outputs": []
    },
    {
      "cell_type": "code",
      "metadata": {
        "colab_type": "code",
        "id": "66m7XbB5AFmt",
        "outputId": "4b891ba6-a28a-4168-ecd1-1473ec6c6032",
        "colab": {
          "base_uri": "https://localhost:8080/",
          "height": 226
        }
      },
      "source": [
        "# Создаем предсказания\n",
        "predictions = model_noim.predict(data_noim)\n",
        "predictions.head()"
      ],
      "execution_count": 8,
      "outputs": [
        {
          "output_type": "execute_result",
          "data": {
            "text/html": [
              "<div>\n",
              "<style scoped>\n",
              "    .dataframe tbody tr th:only-of-type {\n",
              "        vertical-align: middle;\n",
              "    }\n",
              "\n",
              "    .dataframe tbody tr th {\n",
              "        vertical-align: top;\n",
              "    }\n",
              "\n",
              "    .dataframe thead th {\n",
              "        text-align: right;\n",
              "    }\n",
              "</style>\n",
              "<table border=\"1\" class=\"dataframe\">\n",
              "  <thead>\n",
              "    <tr style=\"text-align: right;\">\n",
              "      <th></th>\n",
              "      <th>dx_predictions</th>\n",
              "      <th>dx_probabilities_&lt;UNK&gt;</th>\n",
              "      <th>dx_probabilities_nv</th>\n",
              "      <th>dx_probabilities_mel</th>\n",
              "      <th>dx_probabilities_bkl</th>\n",
              "      <th>dx_probabilities_bcc</th>\n",
              "      <th>dx_probabilities_akiec</th>\n",
              "      <th>dx_probabilities_vasc</th>\n",
              "      <th>dx_probabilities_df</th>\n",
              "      <th>dx_probability</th>\n",
              "    </tr>\n",
              "  </thead>\n",
              "  <tbody>\n",
              "    <tr>\n",
              "      <th>0</th>\n",
              "      <td>bkl</td>\n",
              "      <td>0.000050</td>\n",
              "      <td>0.125788</td>\n",
              "      <td>0.138430</td>\n",
              "      <td>0.291191</td>\n",
              "      <td>0.288857</td>\n",
              "      <td>0.150823</td>\n",
              "      <td>0.004077</td>\n",
              "      <td>0.000783</td>\n",
              "      <td>0.291191</td>\n",
              "    </tr>\n",
              "    <tr>\n",
              "      <th>1</th>\n",
              "      <td>bkl</td>\n",
              "      <td>0.000050</td>\n",
              "      <td>0.125788</td>\n",
              "      <td>0.138430</td>\n",
              "      <td>0.291191</td>\n",
              "      <td>0.288857</td>\n",
              "      <td>0.150823</td>\n",
              "      <td>0.004077</td>\n",
              "      <td>0.000783</td>\n",
              "      <td>0.291191</td>\n",
              "    </tr>\n",
              "    <tr>\n",
              "      <th>2</th>\n",
              "      <td>bkl</td>\n",
              "      <td>0.000050</td>\n",
              "      <td>0.125788</td>\n",
              "      <td>0.138430</td>\n",
              "      <td>0.291191</td>\n",
              "      <td>0.288857</td>\n",
              "      <td>0.150823</td>\n",
              "      <td>0.004077</td>\n",
              "      <td>0.000783</td>\n",
              "      <td>0.291191</td>\n",
              "    </tr>\n",
              "    <tr>\n",
              "      <th>3</th>\n",
              "      <td>bkl</td>\n",
              "      <td>0.000050</td>\n",
              "      <td>0.125788</td>\n",
              "      <td>0.138430</td>\n",
              "      <td>0.291191</td>\n",
              "      <td>0.288857</td>\n",
              "      <td>0.150823</td>\n",
              "      <td>0.004077</td>\n",
              "      <td>0.000783</td>\n",
              "      <td>0.291191</td>\n",
              "    </tr>\n",
              "    <tr>\n",
              "      <th>4</th>\n",
              "      <td>nv</td>\n",
              "      <td>0.000018</td>\n",
              "      <td>0.403542</td>\n",
              "      <td>0.369803</td>\n",
              "      <td>0.109800</td>\n",
              "      <td>0.068055</td>\n",
              "      <td>0.043313</td>\n",
              "      <td>0.004426</td>\n",
              "      <td>0.001043</td>\n",
              "      <td>0.403542</td>\n",
              "    </tr>\n",
              "  </tbody>\n",
              "</table>\n",
              "</div>"
            ],
            "text/plain": [
              "  dx_predictions  dx_probabilities_<UNK>  ...  dx_probabilities_df  dx_probability\n",
              "0            bkl                0.000050  ...             0.000783        0.291191\n",
              "1            bkl                0.000050  ...             0.000783        0.291191\n",
              "2            bkl                0.000050  ...             0.000783        0.291191\n",
              "3            bkl                0.000050  ...             0.000783        0.291191\n",
              "4             nv                0.000018  ...             0.001043        0.403542\n",
              "\n",
              "[5 rows x 10 columns]"
            ]
          },
          "metadata": {
            "tags": []
          },
          "execution_count": 8
        }
      ]
    },
    {
      "cell_type": "code",
      "metadata": {
        "colab_type": "code",
        "id": "zp5qVwdBAFmx",
        "outputId": "2b4f414f-9cc0-4a19-9cce-77d29d90d272",
        "colab": {
          "base_uri": "https://localhost:8080/",
          "height": 1000
        }
      },
      "source": [
        "# красивые графики обучения модели\n",
        "learning_curves(train_noim, 'localization')"
      ],
      "execution_count": 9,
      "outputs": [
        {
          "output_type": "display_data",
          "data": {
            "image/png": "[encoded data removed]",
            "text/plain": [
              "<Figure size 432x288 with 1 Axes>"
            ]
          },
          "metadata": {
            "tags": [],
            "needs_background": "light"
          }
        },
        {
          "output_type": "display_data",
          "data": {
            "image/png": "[encoded data removed]",
            "text/plain": [
              "<Figure size 432x288 with 1 Axes>"
            ]
          },
          "metadata": {
            "tags": []
          }
        },
        {
          "output_type": "display_data",
          "data": {
            "image/png": "[encoded data removed]",
            "text/plain": [
              "<Figure size 432x288 with 1 Axes>"
            ]
          },
          "metadata": {
            "tags": []
          }
        },
        {
          "output_type": "display_data",
          "data": {
            "image/png": "[encoded data removed]",
            "text/plain": [
              "<Figure size 432x288 with 1 Axes>"
            ]
          },
          "metadata": {
            "tags": []
          }
        },
        {
          "output_type": "display_data",
          "data": {
            "image/png": "[encoded data removed]",
            "text/plain": [
              "<Figure size 432x288 with 1 Axes>"
            ]
          },
          "metadata": {
            "tags": []
          }
        }
      ]
    }
  ]
}