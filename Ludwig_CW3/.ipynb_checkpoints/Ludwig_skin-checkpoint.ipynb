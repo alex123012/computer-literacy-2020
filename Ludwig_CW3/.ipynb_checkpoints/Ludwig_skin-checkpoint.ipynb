{
 "cells": [
  {
   "cell_type": "code",
   "execution_count": null,
   "metadata": {
    "colab": {
     "base_uri": "https://localhost:8080/",
     "height": 223
    },
    "colab_type": "code",
    "id": "Gqfv19p6AFl8",
    "outputId": "3f9c6975-6d50-4be0-b5e6-be9615f34117"
   },
   "outputs": [],
   "source": [
    "# импорт библиотек\n",
    "from ludwig.api import *\n",
    "import pandas as pd\n",
    "from ludwig.visualize import *\n",
    "import os\n",
    "import kaggle"
   ]
  },
  {
   "cell_type": "code",
   "execution_count": null,
   "metadata": {},
   "outputs": [],
   "source": [
    "kaggle.api.authenticate()"
   ]
  },
  {
   "cell_type": "code",
   "execution_count": null,
   "metadata": {},
   "outputs": [],
   "source": [
    "kaggle.api.dataset_download_files('kmader/skin-cancer-mnist-ham10000/')"
   ]
  },
  {
   "cell_type": "code",
   "execution_count": null,
   "metadata": {
    "scrolled": false
   },
   "outputs": [],
   "source": [
    "!unzip skin-cancer-mnist-ham10000.zip"
   ]
  },
  {
   "cell_type": "code",
   "execution_count": null,
   "metadata": {
    "colab": {},
    "colab_type": "code",
    "id": "tTG2Omb9AFmJ"
   },
   "outputs": [],
   "source": [
    "# Загрузка основного датасета из метадаты\n",
    "metadata = pd.DataFrame(pd.read_csv('HAM10000_metadata.csv'))\n",
    "# Создание столбца под картинки\n",
    "metadata['path'] = ''\n",
    "metadata.head(1)"
   ]
  },
  {
   "cell_type": "code",
   "execution_count": null,
   "metadata": {
    "colab": {},
    "colab_type": "code",
    "id": "1ae8fq8ZAFmS"
   },
   "outputs": [],
   "source": [
    "# Загружаю пути на картинки из датасета \n",
    "# (тк по разным папкам лежат, то использую условные конструкции)\n",
    "for i in metadata['image_id'].values.tolist():\n",
    "    name = '{}.jpg'.format(i)\n",
    "    if name in os.listdir('HAM10000_images_part_1'):\n",
    "        metadata.loc[metadata['image_id'] == i, 'path'] = os.path.abspath('HAM10000_images_part_1/{}'.format(name))\n",
    "    if name in os.listdir('HAM10000_images_part_2'):\n",
    "        metadata.loc[metadata['image_id'] == i, 'path'] = os.path.abspath('HAM10000_images_part_2/{}'.format(name))"
   ]
  },
  {
   "cell_type": "code",
   "execution_count": null,
   "metadata": {
    "colab": {},
    "colab_type": "code",
    "id": "bA63G0ZAAFmZ"
   },
   "outputs": [],
   "source": [
    "metadata.head(1)"
   ]
  },
  {
   "cell_type": "code",
   "execution_count": null,
   "metadata": {
    "colab": {},
    "colab_type": "code",
    "id": "aTcqqqzeAFmf"
   },
   "outputs": [],
   "source": [
    "# создаем модель\n",
    "model = LudwigModel(model_definition_file='model_definition.yaml')"
   ]
  },
  {
   "cell_type": "code",
   "execution_count": null,
   "metadata": {
    "colab": {},
    "colab_type": "code",
    "id": "AdDZOYvDAFmm"
   },
   "outputs": [],
   "source": [
    "# тренировка\n",
    "train = model.train(metadata)"
   ]
  },
  {
   "cell_type": "markdown",
   "metadata": {
    "colab_type": "text",
    "id": "jwaAPkSQAFmr"
   },
   "source": [
    "## К сожалению, мощности моего компа не хватило на то, чтобы все заработало, надеюсь у вас все получится запустить (просто дальше не особо сложный код), поэтому все должно работать, если тренировка пройдет"
   ]
  },
  {
   "cell_type": "markdown",
   "metadata": {
    "colab_type": "text",
    "id": "5VPJfgMPAJe_"
   },
   "source": [
    "UPD: Тренировка не прошла даже на сайте Kaggle.com через их ноутбуки (за 9 часов так и не прошло ничего), поэтому обучаю модель без картинок"
   ]
  },
  {
   "cell_type": "code",
   "execution_count": null,
   "metadata": {
    "colab": {
     "base_uri": "https://localhost:8080/",
     "height": 206
    },
    "colab_type": "code",
    "id": "6OVSj6D7AWz5",
    "outputId": "9d873491-94a3-4107-e272-03b2a81ed591"
   },
   "outputs": [],
   "source": [
    "# Загрузка основного датасета из метадаты\n",
    "data_noim = pd.DataFrame(pd.read_csv('HAM10000_metadata.csv'))\n",
    "data_noim.head()"
   ]
  },
  {
   "cell_type": "code",
   "execution_count": null,
   "metadata": {
    "colab": {},
    "colab_type": "code",
    "id": "RPL6De8IAp5B"
   },
   "outputs": [],
   "source": [
    "# создаем модель\n",
    "model_noim = LudwigModel(model_definition_file='model_definition_noim.yaml')"
   ]
  },
  {
   "cell_type": "code",
   "execution_count": null,
   "metadata": {
    "colab": {},
    "colab_type": "code",
    "id": "I-vIQ2IDAwxY"
   },
   "outputs": [],
   "source": [
    "# тренировка\n",
    "train_noim = model_noim.train(data_noim)"
   ]
  },
  {
   "cell_type": "code",
   "execution_count": null,
   "metadata": {
    "colab": {
     "base_uri": "https://localhost:8080/",
     "height": 226
    },
    "colab_type": "code",
    "id": "66m7XbB5AFmt",
    "outputId": "8457cc5e-95af-42fe-8524-a6957d37864c"
   },
   "outputs": [],
   "source": [
    "# Создаем предсказания\n",
    "predictions = model_noim.predict(data_noim)\n",
    "predictions.head()"
   ]
  },
  {
   "cell_type": "code",
   "execution_count": null,
   "metadata": {
    "colab": {
     "base_uri": "https://localhost:8080/",
     "height": 1000
    },
    "colab_type": "code",
    "id": "zp5qVwdBAFmx",
    "outputId": "1e1349b4-5ffc-4f7b-bacf-107da943ed73"
   },
   "outputs": [],
   "source": [
    "# красивые графики обучения модели\n",
    "learning_curves(train_noim, 'localization')"
   ]
  }
 ],
 "metadata": {
  "colab": {
   "name": "Ludwig_skin.ipynb",
   "provenance": [],
   "toc_visible": true
  },
  "kernelspec": {
   "display_name": "Python 3",
   "language": "python",
   "name": "python3"
  },
  "language_info": {
   "codemirror_mode": {
    "name": "ipython",
    "version": 3
   },
   "file_extension": ".py",
   "mimetype": "text/x-python",
   "name": "python",
   "nbconvert_exporter": "python",
   "pygments_lexer": "ipython3",
   "version": "3.7.1"
  }
 },
 "nbformat": 4,
 "nbformat_minor": 1
}
