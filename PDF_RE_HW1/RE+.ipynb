{
 "cells": [
  {
   "cell_type": "code",
   "execution_count": 1,
   "metadata": {},
   "outputs": [],
   "source": [
    "# Импорт библиотек\n",
    "import argparse\n",
    "import re\n",
    "import PyPDF2 as pd"
   ]
  },
  {
   "cell_type": "code",
   "execution_count": 2,
   "metadata": {},
   "outputs": [],
   "source": [
    "# Задание функции, которая будет находить регулярные выражения\n",
    "def rebmf(pdf):\n",
    "    red = input()           # Ввод регулярного выражения (далее - РВ)\n",
    "    out = \"\"                # Переменная для цикла \"STR\"\n",
    "    text = \"\"               # Переменная для цикла \"Вывод функции\"\n",
    "    file = pd.PdfFileReader(open(pdf, mode='rb'), strict=False)\n",
    "    # Загрузка-чтение pdf-файла\n",
    "    for i in range(file.getNumPages()):\n",
    "        text += file.getPage(i).extractText()\n",
    "        # Получение текста i-той страницы (в PyPDF2 отсутствует возможность\n",
    "        # выделить весь текст файла сразу), поэтому\n",
    "        # просто зацикливаем выделение по страницам\n",
    "        i += 1\n",
    "    refinder = re.findall(red, text)  # Поиск соответствий по введенному РВ\n",
    "    for i in range(len(refinder)):  # Тк на выходе в переменной refinder мы\n",
    "        out += str(refinder[i])  # получаем список, то для лучшего восприятия,\n",
    "        out += \"\\n\"  # на выходе выведем найденные соответствия в виде строки,\n",
    "    return(out)  # где все соответствия разделены новой строкой\n"
   ]
  },
  {
   "cell_type": "code",
   "execution_count": 3,
   "metadata": {},
   "outputs": [],
   "source": [
    "# Задание еще одной функции (чисто для интереса), которая будет выводить\n",
    "# количество страниц в открываемом pdf-файле\n",
    "def lox(pdf):\n",
    "    p = \"Количество страниц в тексте - \" + str(pd.PdfFileReader(\n",
    "        open(pdf, mode='rb'),  # В переменную записывается исходнозаданная\n",
    "        strict=False).getNumPages())  # строка и количество страниц pdf-файла\n",
    "    return(p)"
   ]
  },
  {
   "cell_type": "code",
   "execution_count": 4,
   "metadata": {},
   "outputs": [
    {
     "data": {
      "text/plain": [
       "_StoreConstAction(option_strings=['-re'], dest='regular', nargs=0, const=<function rebmf at 0xb1d6f104>, default=<function lox at 0xb1d60f14>, type=None, choices=None, help='Get the RE from your PDF\\n                    (default: count pages from PDF', metavar=None)"
      ]
     },
     "execution_count": 4,
     "metadata": {},
     "output_type": "execute_result"
    }
   ],
   "source": [
    "# Тепрь создаем интерфейс консоли с помощью argparce\n",
    "parser = argparse.ArgumentParser(  # Задаем новый парсер\n",
    "    description='Найдите в своем файле регулярные повторы!')\n",
    "parser.add_argument('pdf', metavar='PDF', type=str,  # Теперь задаем аргументы\n",
    "                    help='PDF-File for opening')  # (объекты) для парсера,\n",
    "parser.add_argument('-re', dest='regular', action='store_const',\n",
    "                    const=rebmf, default=lox,\n",
    "                    help='''Get the RE from your PDF\n",
    "                    (default: count pages from PDF''')\n",
    "# А также свойства аргументов: имя опционального и позиционного аргументов,\n",
    "# \"мануал\" для аргументов, "
   ]
  },
  {
   "cell_type": "code",
   "execution_count": 22,
   "metadata": {},
   "outputs": [
    {
     "name": "stdout",
     "output_type": "stream",
     "text": [
      "Количество страниц в тексте - 17\n"
     ]
    }
   ],
   "source": [
    "args = parser.parse_args( [ '/home/alexmakh/Desktop/bash/RE/srep30698.pdf'])\n",
    "print(args.regular(args.pdf))"
   ]
  },
  {
   "cell_type": "code",
   "execution_count": 25,
   "metadata": {},
   "outputs": [
    {
     "data": {
      "text/plain": [
       "'/home/alexmakh/Desktop/bash/RE/srep30698.pdf'"
      ]
     },
     "execution_count": 25,
     "metadata": {},
     "output_type": "execute_result"
    }
   ],
   "source": [
    "args.pdf"
   ]
  },
  {
   "cell_type": "code",
   "execution_count": null,
   "metadata": {},
   "outputs": [],
   "source": []
  }
 ],
 "metadata": {
  "kernelspec": {
   "display_name": "Python 3",
   "language": "python",
   "name": "python3"
  },
  "language_info": {
   "codemirror_mode": {
    "name": "ipython",
    "version": 3
   },
   "file_extension": ".py",
   "mimetype": "text/x-python",
   "name": "python",
   "nbconvert_exporter": "python",
   "pygments_lexer": "ipython3",
   "version": "3.7.1"
  }
 },
 "nbformat": 4,
 "nbformat_minor": 2
}
