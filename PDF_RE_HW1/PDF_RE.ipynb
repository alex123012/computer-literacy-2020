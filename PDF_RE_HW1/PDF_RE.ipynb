{
 "cells": [
  {
   "cell_type": "code",
   "execution_count": 4,
   "metadata": {},
   "outputs": [],
   "source": [
    "import re\n",
    "import PyPDF2 as pd\n",
    "import argparse"
   ]
  },
  {
   "cell_type": "code",
   "execution_count": 7,
   "metadata": {},
   "outputs": [
    {
     "name": "stderr",
     "output_type": "stream",
     "text": [
      "usage: ipykernel_launcher.py [-h] PDF RE\n",
      "ipykernel_launcher.py: error: the following arguments are required: RE\n"
     ]
    },
    {
     "ename": "SystemExit",
     "evalue": "2",
     "output_type": "error",
     "traceback": [
      "An exception has occurred, use %tb to see the full traceback.\n",
      "\u001b[0;31mSystemExit\u001b[0m\u001b[0;31m:\u001b[0m 2\n"
     ]
    },
    {
     "name": "stderr",
     "output_type": "stream",
     "text": [
      "/home/alexmakh/miniconda3/lib/python3.7/site-packages/IPython/core/interactiveshell.py:3275: UserWarning: To exit: use 'exit', 'quit', or Ctrl-D.\n",
      "  warn(\"To exit: use 'exit', 'quit', or Ctrl-D.\", stacklevel=1)\n"
     ]
    }
   ],
   "source": [
    "parser = argparse.ArgumentParser(  # Задаем новый парсер\n",
    "    description='Найдите в своем файле регулярные повторы!')\n",
    "parser.add_argument('pdf', metavar='PDF', type=str,  # Теперь задаем аргументы\n",
    "                    help='PDF-File for opening')  # (объекты) для парсера,\n",
    "parser.add_argument('regular', metavar='RE', type=str,\n",
    "                    help='''Get the RE from your PDF\n",
    "                    (default: count pages from PDF''')\n",
    "args = parser.parse_args()"
   ]
  },
  {
   "cell_type": "code",
   "execution_count": null,
   "metadata": {},
   "outputs": [],
   "source": [
    "#p = pd.PdfFileReader(open(\"srep30698.pdf\", mode='rb')).getNumPages()\n",
    "#type(p)"
   ]
  },
  {
   "cell_type": "code",
   "execution_count": 5,
   "metadata": {},
   "outputs": [
    {
     "name": "stdout",
     "output_type": "stream",
     "text": [
      "Ly-6/uPAR\n",
      "Ly-6/uPAR\n",
      "Ly-6/uPAR\n",
      "Ly-6/uPAR\n",
      "Ly-6/uPAR\n",
      "Ly-6/uPAR\n",
      "Ly-6/uPAR\n",
      "Ly-6/uPAR\n",
      "Ly-6/uPAR\n",
      "Ly-6/uPAR\n",
      "Ly-6/uPAR\n",
      "Ly-6/uPAR\n",
      "Ly-6/uPAR\n",
      "Ly-6/uPAR\n",
      "Ly-6/uPAR\n",
      "\n"
     ]
    }
   ],
   "source": [
    "p = pd.PdfFileReader(open(pdf, mode='rb'))\n",
    "o = \"\"\n",
    "for i in range(p.getNumPages()):\n",
    "    page = p.getPage(i)\n",
    "    o += page.extractText()\n",
    "    i += 1\n",
    "c = re.findall('Ly-6/uPAR', o)\n",
    "print(c)\n",
    "p = pd.PdfFileReader(open(pdf, mode='rb')).getNumPages()\n",
    "print(p)"
   ]
  },
  {
   "cell_type": "code",
   "execution_count": null,
   "metadata": {},
   "outputs": [],
   "source": []
  },
  {
   "cell_type": "code",
   "execution_count": null,
   "metadata": {},
   "outputs": [],
   "source": []
  },
  {
   "cell_type": "code",
   "execution_count": null,
   "metadata": {},
   "outputs": [],
   "source": []
  },
  {
   "cell_type": "code",
   "execution_count": null,
   "metadata": {},
   "outputs": [],
   "source": []
  },
  {
   "cell_type": "markdown",
   "metadata": {},
   "source": [
    "import sys\n",
    "import PyPDF2\n",
    "from PIL import Image\n",
    "\n",
    "if (len(sys.argv) != 2):\n",
    "    print(\"\\nUsage: python {} input_file\\n\".format(sys.argv[0]))\n",
    "    sys.exit(1)\n",
    "\n",
    "pdf = sys.argv[1]\n",
    "\n",
    "if __name__ == '__main__':\n",
    "    input1 = PyPDF2.PdfFileReader(open(\"srinivas1992.pdf\", \"rb\"))\n",
    "    page0 = input1.getPage(30)\n",
    "\n",
    "if '/XObject' in page0['/Resources']:\n",
    "    xObject = page0['/Resources']['/XObject'].getObject()\n",
    "\n",
    "for obj in xObject:\n",
    "    if xObject[obj]['/Subtype'] == '/Image':\n",
    "        size = (xObject[obj]['/Width'], xObject[obj]['/Height'])\n",
    "        data = xObject[obj].getData()\n",
    "    if xObject[obj]['/ColorSpace'] == '/DeviceRGB':\n",
    "        mode = \"RGB\"\n",
    "    else:\n",
    "        mode = \"P\"\n",
    "\n",
    "    if '/Filter' in xObject[obj]:\n",
    "        if xObject[obj]['/Filter'] == '/FlateDecode':\n",
    "            img = Image.frombytes(mode, size, data)\n",
    "            img.save(obj[1:] + \".png\")\n",
    "        elif xObject[obj]['/Filter'] == '/DCTDecode':\n",
    "            img = open(obj[1:] + \".jpg\", \"wb\")\n",
    "            img.write(data)\n",
    "            img.close()\n",
    "        elif xObject[obj]['/Filter'] == '/JPXDecode':\n",
    "            img = open(obj[1:] + \".jp2\", \"wb\")\n",
    "            img.write(data)\n",
    "            img.close()\n",
    "        elif xObject[obj]['/Filter'] == '/CCITTFaxDecode':\n",
    "            img = open(obj[1:] + \".tiff\", \"wb\")\n",
    "            img.write(data)\n",
    "            img.close()\n",
    "        else:\n",
    "            img = Image.frombytes(mode, size, data)\n",
    "            img.save(obj[1:] + \".png\")\n",
    "    else:\n",
    "        print(\"No image found.\")"
   ]
  },
  {
   "cell_type": "markdown",
   "metadata": {},
   "source": [
    "#!/usr/bin/env python\n",
    "\"\"\"\n",
    "Concatenate pages from pdf files into a single pdf file.\n",
    "\n",
    "Page ranges refer to the previously-named file.\n",
    "A file not followed by a page range means all the pages of the file.\n",
    "\n",
    "PAGE RANGES are like Python slices.\n",
    "        {page_range_help}\n",
    "EXAMPLES\n",
    "    pdfcat -o output.pdf head.pdf content.pdf :6 7: tail.pdf -1\n",
    "        Concatenate all of head.pdf, all but page seven of content.pdf,\n",
    "        and the last page of tail.pdf, producing output.pdf.\n",
    "\n",
    "    pdfcat chapter*.pdf >book.pdf\n",
    "        You can specify the output file by redirection.\n",
    "\n",
    "    pdfcat chapter?.pdf chapter10.pdf >book.pdf\n",
    "        In case you don't want chapter 10 before chapter 2.\n",
    "\"\"\"\n",
    "# Copyright (c) 2014, Steve Witham <switham_github@mac-guyver.com>.\n",
    "# All rights reserved. This software is available under a BSD license;\n",
    "# see https://github.com/mstamy2/PyPDF2/LICENSE\n",
    "\n",
    "from __future__ import print_function\n",
    "import argparse\n",
    "from PyPDF2.pagerange import PAGE_RANGE_HELP\n",
    "\n",
    "\n",
    "def parse_args():\n",
    "    parser = argparse.ArgumentParser(\n",
    "        description=__doc__.format(page_range_help=PAGE_RANGE_HELP),\n",
    "        formatter_class=argparse.RawDescriptionHelpFormatter)\n",
    "    parser.add_argument(\"-o\", \"--output\",\n",
    "                        metavar=\"output_file\")\n",
    "    parser.add_argument(\"-v\", \"--verbose\", action=\"store_true\",\n",
    "                        help=\"show page ranges as they are being read\")\n",
    "    parser.add_argument(\"first_filename\", nargs=1,\n",
    "                        metavar=\"filename [page range...]\")\n",
    "    # argparse chokes on page ranges like \"-2:\" unless caught like this:\n",
    "    parser.add_argument(\"fn_pgrgs\", nargs=argparse.REMAINDER,\n",
    "                        metavar=\"filenames and/or page ranges\")\n",
    "    args = parser.parse_args()\n",
    "    args.fn_pgrgs.insert(0, args.first_filename[0])\n",
    "    return args\n",
    "\n",
    "\n",
    "from sys import stderr, stdout, exit\n",
    "import os\n",
    "import traceback\n",
    "from collections import defaultdict\n",
    "\n",
    "from PyPDF2 import PdfFileMerger, parse_filename_page_ranges\n",
    "\n",
    "\n",
    "if __name__ == \"__main__\":\n",
    "    args = parse_args()\n",
    "    filename_page_ranges = parse_filename_page_ranges(args.fn_pgrgs)\n",
    "    if args.output:\n",
    "        output = open(args.output, \"wb\")\n",
    "    else:\n",
    "        stdout.flush()\n",
    "        output = os.fdopen(stdout.fileno(), \"wb\")\n",
    "\n",
    "    merger = PdfFileMerger()\n",
    "    in_fs = dict()\n",
    "    try:\n",
    "        for (filename, page_range) in filename_page_ranges:\n",
    "            if args.verbose:\n",
    "                print(filename, page_range, file=stderr)\n",
    "            if filename not in in_fs:\n",
    "                in_fs[filename] = open(filename, \"rb\")\n",
    "            merger.append(in_fs[filename], pages=page_range)\n",
    "    except:\n",
    "        print(traceback.format_exc(), file=stderr)\n",
    "        print(\"Error while reading \" + filename, file=stderr)\n",
    "        exit(1)\n",
    "    merger.write(output)\n",
    "    # In 3.0, input files must stay open until output is written.\n",
    "    # Not closing the in_fs because this script exits now."
   ]
  },
  {
   "cell_type": "code",
   "execution_count": null,
   "metadata": {},
   "outputs": [],
   "source": []
  }
 ],
 "metadata": {
  "kernelspec": {
   "display_name": "Python 3",
   "language": "python",
   "name": "python3"
  },
  "language_info": {
   "codemirror_mode": {
    "name": "ipython",
    "version": 3
   },
   "file_extension": ".py",
   "mimetype": "text/x-python",
   "name": "python",
   "nbconvert_exporter": "python",
   "pygments_lexer": "ipython3",
   "version": "3.7.1"
  }
 },
 "nbformat": 4,
 "nbformat_minor": 2
}
