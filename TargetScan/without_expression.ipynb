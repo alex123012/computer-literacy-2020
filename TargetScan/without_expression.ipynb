{
 "cells": [
  {
   "cell_type": "markdown",
   "metadata": {},
   "source": [
    "# Сравнение предикшенов по невыравненным последовательностям"
   ]
  },
  {
   "cell_type": "code",
   "execution_count": 1,
   "metadata": {},
   "outputs": [],
   "source": [
    "import pandas as pd\n",
    "import re\n",
    "import numpy as np\n",
    "from Predictions import * # Функции для сравнения в файле Predictions.py"
   ]
  },
  {
   "cell_type": "markdown",
   "metadata": {},
   "source": [
    "# Обработка данных"
   ]
  },
  {
   "cell_type": "code",
   "execution_count": 2,
   "metadata": {
    "scrolled": true
   },
   "outputs": [
    {
     "data": {
      "text/html": [
       "<div>\n",
       "<style scoped>\n",
       "    .dataframe tbody tr th:only-of-type {\n",
       "        vertical-align: middle;\n",
       "    }\n",
       "\n",
       "    .dataframe tbody tr th {\n",
       "        vertical-align: top;\n",
       "    }\n",
       "\n",
       "    .dataframe thead th {\n",
       "        text-align: right;\n",
       "    }\n",
       "</style>\n",
       "<table border=\"1\" class=\"dataframe\">\n",
       "  <thead>\n",
       "    <tr style=\"text-align: right;\">\n",
       "      <th></th>\n",
       "      <th>a_Gene_ID</th>\n",
       "      <th>miRNA_family_ID</th>\n",
       "      <th>species_ID</th>\n",
       "      <th>MSA_start</th>\n",
       "      <th>MSA_end</th>\n",
       "      <th>UTR_start</th>\n",
       "      <th>UTR_end</th>\n",
       "      <th>Group_num</th>\n",
       "      <th>Site_type</th>\n",
       "      <th>miRNA in this species</th>\n",
       "      <th>Group_type</th>\n",
       "      <th>Species_in_this_group</th>\n",
       "      <th>Species_in_this_group_with_this_site_type</th>\n",
       "      <th>ORF_overlap</th>\n",
       "    </tr>\n",
       "  </thead>\n",
       "  <tbody>\n",
       "    <tr>\n",
       "      <th>0</th>\n",
       "      <td>SARS-2</td>\n",
       "      <td>let-7-5p/98-5p</td>\n",
       "      <td>9606</td>\n",
       "      <td>12450</td>\n",
       "      <td>12455</td>\n",
       "      <td>12450</td>\n",
       "      <td>12455</td>\n",
       "      <td>1</td>\n",
       "      <td>6mer</td>\n",
       "      <td>x</td>\n",
       "      <td>6mer</td>\n",
       "      <td>9606</td>\n",
       "      <td>NaN</td>\n",
       "      <td>0</td>\n",
       "    </tr>\n",
       "    <tr>\n",
       "      <th>1</th>\n",
       "      <td>SARS-2</td>\n",
       "      <td>let-7-5p/98-5p</td>\n",
       "      <td>9606</td>\n",
       "      <td>19061</td>\n",
       "      <td>19067</td>\n",
       "      <td>19061</td>\n",
       "      <td>19067</td>\n",
       "      <td>2</td>\n",
       "      <td>7mer-1a</td>\n",
       "      <td>x</td>\n",
       "      <td>7mer-1a</td>\n",
       "      <td>9606</td>\n",
       "      <td>NaN</td>\n",
       "      <td>0</td>\n",
       "    </tr>\n",
       "    <tr>\n",
       "      <th>2</th>\n",
       "      <td>SARS-2</td>\n",
       "      <td>let-7-5p/98-5p</td>\n",
       "      <td>9606</td>\n",
       "      <td>9861</td>\n",
       "      <td>9866</td>\n",
       "      <td>9861</td>\n",
       "      <td>9866</td>\n",
       "      <td>3</td>\n",
       "      <td>6mer</td>\n",
       "      <td>x</td>\n",
       "      <td>6mer</td>\n",
       "      <td>9606</td>\n",
       "      <td>NaN</td>\n",
       "      <td>0</td>\n",
       "    </tr>\n",
       "    <tr>\n",
       "      <th>3</th>\n",
       "      <td>SARS-2</td>\n",
       "      <td>let-7a-2-3p/let-7g-3p</td>\n",
       "      <td>9606</td>\n",
       "      <td>11835</td>\n",
       "      <td>11841</td>\n",
       "      <td>11835</td>\n",
       "      <td>11841</td>\n",
       "      <td>4</td>\n",
       "      <td>7mer-m8</td>\n",
       "      <td>x</td>\n",
       "      <td>7mer-m8</td>\n",
       "      <td>9606</td>\n",
       "      <td>NaN</td>\n",
       "      <td>0</td>\n",
       "    </tr>\n",
       "    <tr>\n",
       "      <th>4</th>\n",
       "      <td>SARS-2</td>\n",
       "      <td>let-7a-2-3p/let-7g-3p</td>\n",
       "      <td>9606</td>\n",
       "      <td>13160</td>\n",
       "      <td>13165</td>\n",
       "      <td>13160</td>\n",
       "      <td>13165</td>\n",
       "      <td>5</td>\n",
       "      <td>6mer</td>\n",
       "      <td>x</td>\n",
       "      <td>6mer</td>\n",
       "      <td>9606</td>\n",
       "      <td>NaN</td>\n",
       "      <td>0</td>\n",
       "    </tr>\n",
       "  </tbody>\n",
       "</table>\n",
       "</div>"
      ],
      "text/plain": [
       "  a_Gene_ID        miRNA_family_ID  species_ID  MSA_start  MSA_end  UTR_start  \\\n",
       "0    SARS-2         let-7-5p/98-5p        9606      12450    12455      12450   \n",
       "1    SARS-2         let-7-5p/98-5p        9606      19061    19067      19061   \n",
       "2    SARS-2         let-7-5p/98-5p        9606       9861     9866       9861   \n",
       "3    SARS-2  let-7a-2-3p/let-7g-3p        9606      11835    11841      11835   \n",
       "4    SARS-2  let-7a-2-3p/let-7g-3p        9606      13160    13165      13160   \n",
       "\n",
       "   UTR_end  Group_num Site_type miRNA in this species Group_type  \\\n",
       "0    12455          1      6mer                     x       6mer   \n",
       "1    19067          2   7mer-1a                     x    7mer-1a   \n",
       "2     9866          3      6mer                     x       6mer   \n",
       "3    11841          4   7mer-m8                     x    7mer-m8   \n",
       "4    13165          5      6mer                     x       6mer   \n",
       "\n",
       "   Species_in_this_group  Species_in_this_group_with_this_site_type  \\\n",
       "0                   9606                                        NaN   \n",
       "1                   9606                                        NaN   \n",
       "2                   9606                                        NaN   \n",
       "3                   9606                                        NaN   \n",
       "4                   9606                                        NaN   \n",
       "\n",
       "   ORF_overlap  \n",
       "0            0  \n",
       "1            0  \n",
       "2            0  \n",
       "3            0  \n",
       "4            0  "
      ]
     },
     "execution_count": 2,
     "metadata": {},
     "output_type": "execute_result"
    }
   ],
   "source": [
    "# Загружаю предикшены TargetScan\n",
    "sars2t = pd.read_csv('TargetScan_predictions/SARS-CoV-2.txt', sep='\\t')\n",
    "sarst = pd.read_csv('TargetScan_predictions/SARS-CoV.txt', sep='\\t')\n",
    "merst = pd.read_csv('TargetScan_predictions/MERS-CoV.txt', sep='\\t')\n",
    "oc43t = pd.read_csv('TargetScan_predictions/HCoV-OC43.txt', sep='\\t')\n",
    "hku1t = pd.read_csv('TargetScan_predictions/HCoV-HKU1.txt', sep='\\t')\n",
    "e229t = pd.read_csv('TargetScan_predictions/HCoV-229E.txt', sep='\\t')\n",
    "nl63t = pd.read_csv('TargetScan_predictions/HCoV-NL63.txt', sep='\\t')\n",
    "sars2t.head()"
   ]
  },
  {
   "cell_type": "code",
   "execution_count": 3,
   "metadata": {},
   "outputs": [],
   "source": [
    "list_name = [sars2t, merst, sarst, oc43t, hku1t, e229t, nl63t]"
   ]
  },
  {
   "cell_type": "code",
   "execution_count": 4,
   "metadata": {},
   "outputs": [
    {
     "data": {
      "text/html": [
       "<div>\n",
       "<style scoped>\n",
       "    .dataframe tbody tr th:only-of-type {\n",
       "        vertical-align: middle;\n",
       "    }\n",
       "\n",
       "    .dataframe tbody tr th {\n",
       "        vertical-align: top;\n",
       "    }\n",
       "\n",
       "    .dataframe thead th {\n",
       "        text-align: right;\n",
       "    }\n",
       "</style>\n",
       "<table border=\"1\" class=\"dataframe\">\n",
       "  <thead>\n",
       "    <tr style=\"text-align: right;\">\n",
       "      <th></th>\n",
       "      <th>Virus</th>\n",
       "      <th>miRNA</th>\n",
       "      <th>MSA_start</th>\n",
       "      <th>MSA_end</th>\n",
       "      <th>UTR_start</th>\n",
       "      <th>UTR_end</th>\n",
       "      <th>Site_type</th>\n",
       "      <th>miRNA in this species</th>\n",
       "      <th>ORF_overlap</th>\n",
       "    </tr>\n",
       "  </thead>\n",
       "  <tbody>\n",
       "    <tr>\n",
       "      <th>0</th>\n",
       "      <td>SARS-2</td>\n",
       "      <td>let-7-5p/98-5p</td>\n",
       "      <td>12450</td>\n",
       "      <td>12455</td>\n",
       "      <td>12450</td>\n",
       "      <td>12455</td>\n",
       "      <td>6mer</td>\n",
       "      <td>x</td>\n",
       "      <td>0</td>\n",
       "    </tr>\n",
       "    <tr>\n",
       "      <th>1</th>\n",
       "      <td>SARS-2</td>\n",
       "      <td>let-7-5p/98-5p</td>\n",
       "      <td>19061</td>\n",
       "      <td>19067</td>\n",
       "      <td>19061</td>\n",
       "      <td>19067</td>\n",
       "      <td>7mer-1a</td>\n",
       "      <td>x</td>\n",
       "      <td>0</td>\n",
       "    </tr>\n",
       "    <tr>\n",
       "      <th>2</th>\n",
       "      <td>SARS-2</td>\n",
       "      <td>let-7-5p/98-5p</td>\n",
       "      <td>9861</td>\n",
       "      <td>9866</td>\n",
       "      <td>9861</td>\n",
       "      <td>9866</td>\n",
       "      <td>6mer</td>\n",
       "      <td>x</td>\n",
       "      <td>0</td>\n",
       "    </tr>\n",
       "    <tr>\n",
       "      <th>3</th>\n",
       "      <td>SARS-2</td>\n",
       "      <td>let-7a-2-3p/let-7g-3p</td>\n",
       "      <td>11835</td>\n",
       "      <td>11841</td>\n",
       "      <td>11835</td>\n",
       "      <td>11841</td>\n",
       "      <td>7mer-m8</td>\n",
       "      <td>x</td>\n",
       "      <td>0</td>\n",
       "    </tr>\n",
       "    <tr>\n",
       "      <th>4</th>\n",
       "      <td>SARS-2</td>\n",
       "      <td>let-7a-2-3p/let-7g-3p</td>\n",
       "      <td>13160</td>\n",
       "      <td>13165</td>\n",
       "      <td>13160</td>\n",
       "      <td>13165</td>\n",
       "      <td>6mer</td>\n",
       "      <td>x</td>\n",
       "      <td>0</td>\n",
       "    </tr>\n",
       "  </tbody>\n",
       "</table>\n",
       "</div>"
      ],
      "text/plain": [
       "    Virus                  miRNA  MSA_start  MSA_end  UTR_start  UTR_end  \\\n",
       "0  SARS-2         let-7-5p/98-5p      12450    12455      12450    12455   \n",
       "1  SARS-2         let-7-5p/98-5p      19061    19067      19061    19067   \n",
       "2  SARS-2         let-7-5p/98-5p       9861     9866       9861     9866   \n",
       "3  SARS-2  let-7a-2-3p/let-7g-3p      11835    11841      11835    11841   \n",
       "4  SARS-2  let-7a-2-3p/let-7g-3p      13160    13165      13160    13165   \n",
       "\n",
       "  Site_type miRNA in this species  ORF_overlap  \n",
       "0      6mer                     x            0  \n",
       "1   7mer-1a                     x            0  \n",
       "2      6mer                     x            0  \n",
       "3   7mer-m8                     x            0  \n",
       "4      6mer                     x            0  "
      ]
     },
     "execution_count": 4,
     "metadata": {},
     "output_type": "execute_result"
    }
   ],
   "source": [
    "# Немного форматирую датафреймы под нашу задачу\n",
    "for target in list_name:\n",
    "    target.rename(columns={'miRNA_family_ID': 'miRNA', 'a_Gene_ID': 'Virus'}, inplace=True)\n",
    "    target.drop(['species_ID', 'Group_num', 'Group_type',\n",
    "                 'Species_in_this_group', 'Species_in_this_group_with_this_site_type'],\n",
    "                axis=1, inplace=True)\n",
    "sars2t.head()"
   ]
  },
  {
   "cell_type": "code",
   "execution_count": 5,
   "metadata": {},
   "outputs": [
    {
     "data": {
      "text/html": [
       "<div>\n",
       "<style scoped>\n",
       "    .dataframe tbody tr th:only-of-type {\n",
       "        vertical-align: middle;\n",
       "    }\n",
       "\n",
       "    .dataframe tbody tr th {\n",
       "        vertical-align: top;\n",
       "    }\n",
       "\n",
       "    .dataframe thead th {\n",
       "        text-align: right;\n",
       "    }\n",
       "</style>\n",
       "<table border=\"1\" class=\"dataframe\">\n",
       "  <thead>\n",
       "    <tr style=\"text-align: right;\">\n",
       "      <th></th>\n",
       "      <th>Target Rank</th>\n",
       "      <th>Target Score</th>\n",
       "      <th>miRNA Name</th>\n",
       "    </tr>\n",
       "  </thead>\n",
       "  <tbody>\n",
       "    <tr>\n",
       "      <th>0</th>\n",
       "      <td>1</td>\n",
       "      <td>99</td>\n",
       "      <td>hsa-miR-4288</td>\n",
       "    </tr>\n",
       "  </tbody>\n",
       "</table>\n",
       "</div>"
      ],
      "text/plain": [
       "   Target Rank  Target Score    miRNA Name\n",
       "0            1            99  hsa-miR-4288"
      ]
     },
     "execution_count": 5,
     "metadata": {},
     "output_type": "execute_result"
    }
   ],
   "source": [
    "# Загружаю данные miRDB\n",
    "sars2m = pd.DataFrame(pd.read_csv('miRDB_predictions/SARS-CoV-2_miRDB.txt', sep='\\t'))\n",
    "sarsm = pd.DataFrame(pd.read_csv('miRDB_predictions/SARS-CoV_miRDB.txt', sep='\\t'))\n",
    "oc43m = pd.DataFrame(pd.read_csv('miRDB_predictions/HCoV-OC43_miRDB.txt', sep='\\t'))\n",
    "mersm = pd.DataFrame(pd.read_csv('miRDB_predictions/MERS-CoV_miRDB.txt', sep='\\t'))\n",
    "hku1m = pd.DataFrame(pd.read_csv('miRDB_predictions/HCoV-HKU1_miRDB.txt', sep='\\t'))\n",
    "e229m = pd.DataFrame(pd.read_csv('miRDB_predictions/HCoV-229E_miRDB.txt', sep='\\t'))\n",
    "nl63m = pd.DataFrame(pd.read_csv('miRDB_predictions/HCoV-NL63_miRDB.txt', sep='\\t'))\n",
    "sars2m.head(1)"
   ]
  },
  {
   "cell_type": "markdown",
   "metadata": {},
   "source": [
    "# Рабочий поцесс:\n",
    "## Сравнение TargetScan и miRDB\n",
    "### Все функции описаны в файле Predictions.py"
   ]
  },
  {
   "cell_type": "code",
   "execution_count": 6,
   "metadata": {},
   "outputs": [],
   "source": [
    "without_exp(sars2m, sars2t, 'Results/_noexp/Result_SARS2_noexp')"
   ]
  },
  {
   "cell_type": "code",
   "execution_count": 7,
   "metadata": {},
   "outputs": [],
   "source": [
    "without_exp(sarsm, sarst, 'Results/_noexp/Result_SARS_noexp')"
   ]
  },
  {
   "cell_type": "code",
   "execution_count": 8,
   "metadata": {},
   "outputs": [],
   "source": [
    "without_exp(mersm, merst, 'Results/_noexp/Result_MERS_noexp')"
   ]
  },
  {
   "cell_type": "code",
   "execution_count": 9,
   "metadata": {},
   "outputs": [],
   "source": [
    "without_exp(oc43m, oc43t, 'Results/_noexp/Result_OC43_noexp')"
   ]
  },
  {
   "cell_type": "code",
   "execution_count": 10,
   "metadata": {},
   "outputs": [],
   "source": [
    "without_exp(hku1m, hku1t, 'Results/_noexp/Result_HKU1_noexp')"
   ]
  },
  {
   "cell_type": "code",
   "execution_count": 11,
   "metadata": {},
   "outputs": [],
   "source": [
    "without_exp(e229m, e229t, 'Results/_noexp/Result_229E_noexp')"
   ]
  },
  {
   "cell_type": "code",
   "execution_count": 12,
   "metadata": {},
   "outputs": [],
   "source": [
    "without_exp(nl63m, nl63t, 'Results/_noexp/Result_NL63_noexp')"
   ]
  },
  {
   "cell_type": "markdown",
   "metadata": {},
   "source": [
    "## Сравнение сайтов связывания"
   ]
  },
  {
   "cell_type": "code",
   "execution_count": 14,
   "metadata": {},
   "outputs": [
    {
     "name": "stdout",
     "output_type": "stream",
     "text": [
      "[False]\n"
     ]
    }
   ],
   "source": [
    "locus(sars2t, '_noexp/Result_SARS2_noexp', 'SARS2')"
   ]
  },
  {
   "cell_type": "code",
   "execution_count": 15,
   "metadata": {},
   "outputs": [
    {
     "name": "stdout",
     "output_type": "stream",
     "text": [
      "[False]\n"
     ]
    }
   ],
   "source": [
    "locus(sarst, '_noexp/Result_SARS_noexp', 'SARS')"
   ]
  },
  {
   "cell_type": "code",
   "execution_count": 16,
   "metadata": {},
   "outputs": [
    {
     "name": "stdout",
     "output_type": "stream",
     "text": [
      "[False]\n"
     ]
    }
   ],
   "source": [
    "locus(merst, '_noexp/Result_MERS_noexp', 'MERS')"
   ]
  },
  {
   "cell_type": "code",
   "execution_count": 17,
   "metadata": {},
   "outputs": [
    {
     "name": "stdout",
     "output_type": "stream",
     "text": [
      "[False]\n"
     ]
    }
   ],
   "source": [
    "locus(oc43t, '_noexp/Result_OC43_noexp', 'OC43')"
   ]
  },
  {
   "cell_type": "code",
   "execution_count": 18,
   "metadata": {},
   "outputs": [
    {
     "name": "stdout",
     "output_type": "stream",
     "text": [
      "[False]\n"
     ]
    }
   ],
   "source": [
    "locus(hku1t, '_noexp/Result_HKU1_noexp', 'HKU1')"
   ]
  },
  {
   "cell_type": "code",
   "execution_count": 19,
   "metadata": {},
   "outputs": [
    {
     "name": "stdout",
     "output_type": "stream",
     "text": [
      "[False]\n"
     ]
    }
   ],
   "source": [
    "locus(e229t, '_noexp/Result_229E_noexp', '229E')"
   ]
  },
  {
   "cell_type": "code",
   "execution_count": 20,
   "metadata": {},
   "outputs": [
    {
     "name": "stdout",
     "output_type": "stream",
     "text": [
      "[False]\n"
     ]
    }
   ],
   "source": [
    "locus(nl63t, '_noexp/Result_NL63_noexp', 'NL63')"
   ]
  }
 ],
 "metadata": {
  "kernelspec": {
   "display_name": "Python 3",
   "language": "python",
   "name": "python3"
  },
  "language_info": {
   "codemirror_mode": {
    "name": "ipython",
    "version": 3
   },
   "file_extension": ".py",
   "mimetype": "text/x-python",
   "name": "python",
   "nbconvert_exporter": "python",
   "pygments_lexer": "ipython3",
   "version": "3.7.1"
  }
 },
 "nbformat": 4,
 "nbformat_minor": 2
}
